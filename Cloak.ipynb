{
 "cells": [
  {
   "cell_type": "code",
   "execution_count": 1,
   "metadata": {},
   "outputs": [
    {
     "ename": "KeyboardInterrupt",
     "evalue": "",
     "output_type": "error",
     "traceback": [
      "\u001b[0;31m---------------------------------------------------------------------------\u001b[0m",
      "\u001b[0;31mKeyboardInterrupt\u001b[0m                         Traceback (most recent call last)",
      "\u001b[0;32m<ipython-input-1-0d73ccc3106a>\u001b[0m in \u001b[0;36m<module>\u001b[0;34m\u001b[0m\n\u001b[1;32m     39\u001b[0m         \u001b[0mcv2\u001b[0m\u001b[0;34m.\u001b[0m\u001b[0mimshow\u001b[0m\u001b[0;34m(\u001b[0m\u001b[0;34m\"cloak\"\u001b[0m\u001b[0;34m,\u001b[0m \u001b[0mpart1\u001b[0m \u001b[0;34m+\u001b[0m \u001b[0mpart2\u001b[0m\u001b[0;34m)\u001b[0m\u001b[0;34m\u001b[0m\u001b[0;34m\u001b[0m\u001b[0m\n\u001b[1;32m     40\u001b[0m \u001b[0;34m\u001b[0m\u001b[0m\n\u001b[0;32m---> 41\u001b[0;31m         \u001b[0;32mif\u001b[0m \u001b[0mcv2\u001b[0m\u001b[0;34m.\u001b[0m\u001b[0mwaitKey\u001b[0m\u001b[0;34m(\u001b[0m\u001b[0;36m5\u001b[0m\u001b[0;34m)\u001b[0m \u001b[0;34m==\u001b[0m \u001b[0mord\u001b[0m\u001b[0;34m(\u001b[0m\u001b[0;34m'q'\u001b[0m\u001b[0;34m)\u001b[0m\u001b[0;34m:\u001b[0m\u001b[0;34m\u001b[0m\u001b[0;34m\u001b[0m\u001b[0m\n\u001b[0m\u001b[1;32m     42\u001b[0m             \u001b[0;32mbreak\u001b[0m\u001b[0;34m\u001b[0m\u001b[0;34m\u001b[0m\u001b[0m\n\u001b[1;32m     43\u001b[0m \u001b[0;34m\u001b[0m\u001b[0m\n",
      "\u001b[0;31mKeyboardInterrupt\u001b[0m: "
     ]
    }
   ],
   "source": [
    "import cv2\n",
    "import numpy as np\n",
    "\n",
    "cap = cv2.VideoCapture(0)\n",
    "back = cv2.imread('./image.jpg')\n",
    "\n",
    "while cap.isOpened():\n",
    "    # take each frame\n",
    "    ret, frame = cap.read()\n",
    "\n",
    "    if ret:\n",
    "        # how do we convert rgb to hsv?\n",
    "        hsv = cv2.cvtColor(frame, cv2.COLOR_BGR2HSV)\n",
    "        # cv2.imshow(\"hsv\", hsv)\n",
    "        # how to get hsv value?\n",
    "        # lower: hue - 10, 100, 100, higher: h+10, 255, 255\n",
    "        red = np.uint8([[[0,0,255]]]) # bgr value of red\n",
    "        hsv_red = cv2.cvtColor(red, cv2.COLOR_BGR2HSV)\n",
    "        # get hsv value of red from bgr\n",
    "        # print(hsv_red)\n",
    "\n",
    "        # threshold the hsv value to get only red colors\n",
    "        l_red = np.array([0, 100, 100])\n",
    "        u_red = np.array([10, 255, 255])\n",
    "\n",
    "        mask = cv2.inRange(hsv, l_red, u_red)\n",
    "        # cv2.imshow(\"mask\", mask)\n",
    "\n",
    "        # all things red\n",
    "        part1 = cv2.bitwise_and(back, back, mask=mask)\n",
    "        # cv2.imshow(\"part1\", part1)\n",
    "\n",
    "        mask = cv2.bitwise_not(mask)\n",
    "\n",
    "        # part 2 is all things not red\n",
    "        part2 = cv2.bitwise_and(frame, frame, mask=mask)\n",
    "        # cv2.imshow(\"mask\", part2)\n",
    "\n",
    "        cv2.imshow(\"cloak\", part1 + part2)\n",
    "\n",
    "        if cv2.waitKey(5) == ord('q'):\n",
    "            break\n",
    "\n",
    "cap.release()\n",
    "cv2.destroyAllWindows()"
   ]
  },
  {
   "cell_type": "code",
   "execution_count": null,
   "metadata": {},
   "outputs": [],
   "source": []
  }
 ],
 "metadata": {
  "kernelspec": {
   "display_name": "Python 3",
   "language": "python",
   "name": "python3"
  },
  "language_info": {
   "codemirror_mode": {
    "name": "ipython",
    "version": 3
   },
   "file_extension": ".py",
   "mimetype": "text/x-python",
   "name": "python",
   "nbconvert_exporter": "python",
   "pygments_lexer": "ipython3",
   "version": "3.8.5"
  }
 },
 "nbformat": 4,
 "nbformat_minor": 4
}
